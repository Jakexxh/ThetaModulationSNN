{
  "nbformat": 4,
  "nbformat_minor": 0,
  "metadata": {
    "colab": {
      "name": "Population Dynamics and Theta Rhythm Phase Precession of  Hippocampal Place Cell Firing.ipynb",
      "provenance": [],
      "collapsed_sections": []
    },
    "kernelspec": {
      "name": "python3",
      "display_name": "Python 3"
    }
  },
  "cells": [
    {
      "cell_type": "markdown",
      "metadata": {
        "id": "RWnolKXcdzGV"
      },
      "source": [
        "# Population Dynamics and Theta Rhythm Phase Precession of  Hippocampal Place Cell Firing: A Spiking Neuron Model"
      ]
    },
    {
      "cell_type": "code",
      "metadata": {
        "id": "NwQtOZh7eBeM"
      },
      "source": [
        "import numpy as np\n",
        "from matplotlib import pyplot as plt"
      ],
      "execution_count": 1,
      "outputs": []
    },
    {
      "cell_type": "code",
      "metadata": {
        "id": "L4mFx9zIOYYm"
      },
      "source": [
        "J1 = 0.015       # maximum excitatory strength\n",
        "J2 = 0.02        # other strengthes\n",
        "l = 0.15         # decay constant of excitatory interactions\n",
        "Sigma = 1.8      # weights factor\n",
        "\n",
        "V_res = 0.85     # resting state of membrane potential\n",
        "V_th = 1.        # spike threshold\n",
        "tau_mem = 20.    # time constant of membrane potential\n",
        "tau_ex = 6.      # time constant of excitatory synaptic current\n",
        "tau_in = 4.      # time constant of inhibitory synaptic current\n",
        "S_ex = 0.2       # reliability of E synaptic transmission\n",
        "S_in = 0.7       # reliability of I synaptic transmission\n",
        "lambda_e = 0.03    # degree of place-specific E input modulation\n",
        "lambda_i = 0.02    # degree of place-specific I input modulation\n",
        "\n",
        "I0_ex = 1.0         # input current baseline\n",
        "I0_in = 1.03        # input current baseline\n",
        "T = 1000/7       # period of inhibitory input\n",
        "\n",
        "num_E = 400      # num of E neurons \n",
        "num_I = 100      # num of I neurons \n",
        "num_ALL = num_E+num_I # num of all neurons \n",
        "\n",
        "time_MOVING = 4000 # time of rat moving\n",
        "dt = 2             # time step for simulation\n",
        "\n",
        "rand_choices = [0, 1]"
      ],
      "execution_count": 2,
      "outputs": []
    },
    {
      "cell_type": "markdown",
      "metadata": {
        "id": "8EwdEdUxtGfD"
      },
      "source": [
        "## 1. Dynamics Definiation"
      ]
    },
    {
      "cell_type": "markdown",
      "metadata": {
        "id": "NqC13DwCegT-"
      },
      "source": [
        "**The synaptic interactions**\n",
        "\n",
        "Between the pyramidal neurons:\n",
        "\n",
        "$\n",
        "J_{i j}^{e x}=\\sigma_{i j} J_{1} \\exp \\left(-\\frac{\\left|x_{i}-x_{j}\\right|}{l}\\right)\n",
        "$\n",
        "\n",
        "$\n",
        "\\begin{aligned}\n",
        "\\sigma_{i j} &=1, & & i<j \\\\\n",
        "&=\\sigma, & & i>j\n",
        "\\end{aligned}\n",
        "$\n",
        "\n",
        "For inhibitory hippocampal neurons, their connections with each other and with the excitatory neurons are uniform,\n",
        "\n",
        "\n"
      ]
    },
    {
      "cell_type": "code",
      "metadata": {
        "id": "dIyOZu5gOCXP"
      },
      "source": [
        "def get_ee_w(sigma, xi, xj):\n",
        "    return sigma*J1*np.exp(-np.abs(xi-xj)/l)"
      ],
      "execution_count": 3,
      "outputs": []
    },
    {
      "cell_type": "markdown",
      "metadata": {
        "id": "bKQR2I3VN4WF"
      },
      "source": [
        "**Dynamics of the membrane potential of each neuron**\n",
        "\n",
        "$\n",
        "\\tau \\frac{d V_{i}}{d t}=-V_{i}+I_{i}^{s}(t)+I_{i}^{e x t}(t)\n",
        "$\n",
        "\n",
        "$\n",
        "I^{s}(t)=I^{e x}(t)-I^{i n}(t)\n",
        "$"
      ]
    },
    {
      "cell_type": "code",
      "metadata": {
        "id": "AV-UDJGQN6Cw"
      },
      "source": [
        "def fr_sigmoid(v):\n",
        "    return 1 / (1 + np.exp(-x))\n",
        "\n",
        "def get_avg_mem_dv(v, i):\n",
        "    return (-v+i)/tau_mem"
      ],
      "execution_count": 4,
      "outputs": []
    },
    {
      "cell_type": "markdown",
      "metadata": {
        "id": "XIADkEHFN8re"
      },
      "source": [
        "**E/I synaptic current**\n",
        "\n",
        "$\n",
        "\\frac{d I_{i}^{e x}(t)}{d t}=-\\frac{I_{i}^{ex}(t)}{\\tau^{e x}}+s^{ex}(t) \\sum_{j} J_{i j}^{e x} \\delta\\left(t-t_{j}^{ex}\\right)\n",
        "$\n",
        "\n",
        "$\n",
        "\\frac{d I_{i}^{i n}(t)}{d t}=-\\frac{I_{i}^{i n}(t)}{\\tau^{i n}}+s^{i n}(t) \\sum_{j} J_{i j}^{i n} \\delta\\left(t-t_{j}^{i n}\\right)\n",
        "$"
      ]
    },
    {
      "cell_type": "code",
      "metadata": {
        "id": "3r8AHItsNz0w"
      },
      "source": [
        "def get_syn_di(i, syn_tau, s, Jij, spike_j):\n",
        "    i_decay = -i/syn_tau \n",
        "    i_rec =  s*np.dot(Jij, spike_j)\n",
        "    return i_decay + i_rec"
      ],
      "execution_count": 5,
      "outputs": []
    },
    {
      "cell_type": "markdown",
      "metadata": {
        "id": "neVjE7zeOAMf"
      },
      "source": [
        "**External Inputs**\n",
        "\n",
        "$\n",
        "I_{i}^{e x t}(t)=I_{0}\\left(1+\\lambda_{e} \\exp \\left(-\\frac{\\left|x_{i}-x_{0}(t)\\right|}{l}\\right)\\right)\n",
        "$\n",
        "\n",
        "$\n",
        "I_{i}^{ext}(t)=I_{0}\\left(1+\\lambda_{i} \\cos (2 \\pi t / T)\\right)\n",
        "$"
      ]
    },
    {
      "cell_type": "code",
      "metadata": {
        "id": "2B9aZryoT8yd"
      },
      "source": [
        "def get_ext_e_i(xi, x0_t):\n",
        "    return I0_ex*(1+lambda_e*np.exp(-np.abs(xi-x0_t)/l))\n",
        "\n",
        "def get_ext_i_i(t, period):\n",
        "    return I0_in*(1+lambda_i*np.cos(2*np.pi*t/period))"
      ],
      "execution_count": 6,
      "outputs": []
    },
    {
      "cell_type": "markdown",
      "metadata": {
        "id": "BHJUAWTIynTV"
      },
      "source": [
        "**The traversal of the apparatus in 4000 ms by the rat moving with a constant speed**\n",
        "\n",
        "$x_{0}(t)=t / 4000$"
      ]
    },
    {
      "cell_type": "code",
      "metadata": {
        "id": "9FtO2fvrynng"
      },
      "source": [
        "def get_x0(t):\n",
        "    return t/time_MOVING"
      ],
      "execution_count": 7,
      "outputs": []
    },
    {
      "cell_type": "markdown",
      "metadata": {
        "id": "eQeDflZktPzP"
      },
      "source": [
        "## 2. Network Definiation & Initialization "
      ]
    },
    {
      "cell_type": "markdown",
      "metadata": {
        "id": "TiqNO55VDUf3"
      },
      "source": [
        "### 2.1 Position Labels"
      ]
    },
    {
      "cell_type": "code",
      "metadata": {
        "id": "lPnUQRHzDUup"
      },
      "source": [
        "def get_position_labels(max_p=1):\n",
        "    return np.linspace(0,max_p,num_E)"
      ],
      "execution_count": 8,
      "outputs": []
    },
    {
      "cell_type": "markdown",
      "metadata": {
        "id": "TkfXl503DlH3"
      },
      "source": [
        "### 2.2 Recurrent Synaptic Strengthes"
      ]
    },
    {
      "cell_type": "code",
      "metadata": {
        "id": "ozWqnMqEDlT_"
      },
      "source": [
        "def init_rec_w(x_labels):\n",
        "    W_rec = np.ones((num_ALL, num_ALL))*J2\n",
        "\n",
        "    for i in range(num_E):\n",
        "        for j in range(num_E):\n",
        "            sigma_ij = 1 if i<j else Sigma\n",
        "            W_rec[i][j] = get_ee_w(sigma=sigma_ij, xi=x_labels[i],xj=x_labels[j])\n",
        "\n",
        "    np.fill_diagonal(W_rec, 0.)\n",
        "\n",
        "    return W_rec"
      ],
      "execution_count": 9,
      "outputs": []
    },
    {
      "cell_type": "markdown",
      "metadata": {
        "id": "pllBgTJbB2K0"
      },
      "source": [
        "### 2.3 Network Configuration"
      ]
    },
    {
      "cell_type": "code",
      "metadata": {
        "id": "pTGTbbs6CTio"
      },
      "source": [
        "class ThetaRhythmSpikeNetwork():\n",
        "    def __init__(self,tot_time=time_MOVING, ext_t=T):\n",
        "        self.x_labels = get_position_labels(1)\n",
        "        self.W_rec = init_rec_w(self.x_labels)\n",
        "        self.time_map = np.arange(0, tot_time, dt)\n",
        "        self.step_num = len(self.time_map)\n",
        "        self.Vs = np.zeros((num_ALL, self.step_num))\n",
        "        self.Vs[:,0] = V_res\n",
        "        self.Is = np.zeros((num_ALL, self.step_num))\n",
        "        self.I_exs = np.zeros((num_ALL, self.step_num))\n",
        "        self.I_ins = np.zeros((num_ALL, self.step_num))\n",
        "        self.Ss = np.zeros((num_ALL, self.step_num))\n",
        "\n",
        "        self.ext_t = ext_t\n",
        "\n",
        "    def simulation(self,):\n",
        "        for curr_ts in range(1, self.step_num):\n",
        "            curr_x0 = get_x0(self.time_map[curr_ts])\n",
        "\n",
        "            for n in range(0, num_ALL):\n",
        "                prev_iex = self.I_exs[n, curr_ts-1]\n",
        "                prev_iin = self.I_ins[n, curr_ts-1]\n",
        "                prev_v = self.Vs[n, curr_ts-1]\n",
        "                prev_s = self.Ss[:, curr_ts-1]\n",
        "\n",
        "                curr_s_ex = np.random.choice(rand_choices)*S_ex\n",
        "                curr_s_in = np.random.choice(rand_choices)*S_in\n",
        "\n",
        "                if n < num_E:\n",
        "                    curr_i_ext = get_ext_e_i(xi=self.x_labels[n], x0_t=curr_x0)\n",
        "                else:\n",
        "                    curr_i_ext = get_ext_i_i(self.time_map[curr_ts],period=self.ext_t)\n",
        "\n",
        "                curr_i_ex = dt*get_syn_di(prev_iex, tau_ex, curr_s_ex, \n",
        "                                       self.W_rec[:num_E,n], prev_s[:num_E])+prev_iex\n",
        "                curr_i_in = dt*get_syn_di(prev_iin, tau_in, curr_s_in, \n",
        "                                       self.W_rec[num_E:,n], prev_s[num_E:])+prev_iin\n",
        "\n",
        "                curr_i = curr_i_ex-curr_i_in+curr_i_ext\n",
        "\n",
        "                self.Is[n,curr_ts]=curr_i\n",
        "                self.I_exs[n, curr_ts] = curr_i_ex\n",
        "                self.I_ins[n, curr_ts] = curr_i_in\n",
        "\n",
        "                curr_v = dt*get_avg_mem_dv(v=prev_v, i=curr_i)+prev_v\n",
        "                \n",
        "                if curr_v >= V_th:\n",
        "                    self.Vs[n, curr_ts] = V_res\n",
        "                    self.Ss[n, curr_ts] = 1.\n",
        "                else:\n",
        "                    self.Vs[n, curr_ts] = curr_v\n",
        "                    self.Ss[n, curr_ts] = 0.\n"
      ],
      "execution_count": 10,
      "outputs": []
    },
    {
      "cell_type": "markdown",
      "metadata": {
        "id": "nEe3MwsRBPqb"
      },
      "source": [
        "## 3. Simulation & Visualization"
      ]
    },
    {
      "cell_type": "code",
      "metadata": {
        "id": "5X0oUYUwtUDa"
      },
      "source": [
        "snn = ThetaRhythmSpikeNetwork(2000)\n",
        "snn.simulation()"
      ],
      "execution_count": 11,
      "outputs": []
    },
    {
      "cell_type": "code",
      "metadata": {
        "id": "H98SK9JVTWoT"
      },
      "source": [
        "def plot_spike_activity(sn, s_t, e_t):\n",
        "    params = {'legend.fontsize': 'x-large',\n",
        "            'figure.figsize': (10, 10),\n",
        "            'axes.labelsize': 'x-large',\n",
        "            'axes.titlesize':'x-large',\n",
        "            'xtick.labelsize':'x-large',\n",
        "            'ytick.labelsize':'x-large'}\n",
        "    s_t = int(s_t/dt)\n",
        "    e_t = int(e_t/dt)\n",
        "\n",
        "    plt.rcParams.update(params)\n",
        "    ss = sn.Ss[:,s_t:e_t]\n",
        "    ts = np.arange(0, sn.step_num)[s_t:e_t]\n",
        "\n",
        "    t_len = np.shape(ss)[1]\n",
        "    spike_n, spike_t = np.where(ss[:num_E]==1.)\n",
        "    fig, ax = plt.subplots(nrows=2, gridspec_kw={'hspace': 0.,'height_ratios': [3, 1]})\n",
        "    \n",
        "    ax[0].scatter(spike_t, spike_n, marker='o', color='black',s=20, linewidth=1)\n",
        "    ax[1].plot([get_ext_i_i(sn.time_map[t],period=sn.ext_t) for t in ts])\n",
        "\n",
        "    ax[0].set_ylim([0, num_E])\n",
        "    ax[0].set_xlim([0, t_len])\n",
        "    ax[0].set_xticks([]) \n",
        "    ax[1].set_xlim([0, t_len])\n",
        "    plt.show()\n",
        "\n"
      ],
      "execution_count": 17,
      "outputs": []
    },
    {
      "cell_type": "code",
      "metadata": {
        "colab": {
          "base_uri": "https://localhost:8080/",
          "height": 601
        },
        "id": "u8McYoYxEjB9",
        "outputId": "f2412e4f-37df-4294-d482-37f5d1239b5c"
      },
      "source": [
        "plot_spike_activity(snn,500,2000)"
      ],
      "execution_count": 20,
      "outputs": [
        {
          "output_type": "display_data",
          "data": {
            "image/png": "[encoded data removed]",
            "text/plain": [
              "<Figure size 720x720 with 2 Axes>"
            ]
          },
          "metadata": {
            "tags": [],
            "needs_background": "light"
          }
        }
      ]
    },
    {
      "cell_type": "code",
      "metadata": {
        "colab": {
          "base_uri": "https://localhost:8080/"
        },
        "id": "0tTCq2k3--rP",
        "outputId": "3b0bd376-2c41-44d3-a92d-be96d9bcf41b"
      },
      "source": [
        "n_ids = list(range(100,105))\n",
        "spike_recording = []\n",
        "\n",
        "for t in range(50):\n",
        "    print('record itr',t)\n",
        "    snn = ThetaRhythmSpikeNetwork(2000)\n",
        "    snn.simulation()\n",
        "    spike_recording.append(snn.Ss[n_ids])"
      ],
      "execution_count": null,
      "outputs": [
        {
          "output_type": "stream",
          "text": [
            "record itr 0\n",
            "record itr 1\n",
            "record itr 2\n",
            "record itr 3\n",
            "record itr 4\n",
            "record itr 5\n",
            "record itr 6\n",
            "record itr 7\n",
            "record itr 8\n",
            "record itr 9\n",
            "record itr 10\n",
            "record itr 11\n",
            "record itr 12\n",
            "record itr 13\n",
            "record itr 14\n",
            "record itr 15\n",
            "record itr 16\n",
            "record itr 17\n",
            "record itr 18\n",
            "record itr 19\n",
            "record itr 20\n",
            "record itr 21\n",
            "record itr 22\n",
            "record itr 23\n",
            "record itr 24\n",
            "record itr 25\n"
          ],
          "name": "stdout"
        }
      ]
    },
    {
      "cell_type": "code",
      "metadata": {
        "id": "zBmlxRvUw6-a",
        "colab": {
          "base_uri": "https://localhost:8080/"
        },
        "outputId": "9ba75288-caf1-4ede-83e7-3b3e66694609"
      },
      "source": [
        "def get_phase_position(sn, n=175, s_cycle=8):\n",
        "    s_t = int(T*s_cycle/dt)\n",
        "    e_t = int(T*(s_cycle+2)/dt)\n",
        "    phase_map = np.linspace(0,720,e_t-s_t)\n",
        "    # spike_n, spike_t = np.where(ss[n,]==1.)\n",
        "    spike_t = np.where(sn.Ss[n,s_t:e_t]==1.)\n",
        "    degrees = phase_map[spike_t]\n",
        "    x0s = [get_x0(sn.time_map[ts+s_t]) for ts in spike_t]\n",
        "    print(degrees)\n",
        "    xn = sn.x_labels[n]\n",
        "    print(xn, x0s)\n",
        "    positions = x0s-xn\n",
        "    print(positions)\n",
        "\n",
        "get_phase_position(snn)"
      ],
      "execution_count": 14,
      "outputs": [
        {
          "output_type": "stream",
          "text": [
            "[]\n",
            "0.43859649122807015 [array([], dtype=float64)]\n",
            "[]\n"
          ],
          "name": "stdout"
        }
      ]
    },
    {
      "cell_type": "code",
      "metadata": {
        "id": "KoyzrKVhTBjy"
      },
      "source": [
        "def plot_current(n, nn):\n",
        "    params = {'legend.fontsize': 'x-large',\n",
        "          'figure.figsize': (10, 6),\n",
        "         'axes.labelsize': 'x-large',\n",
        "         'axes.titlesize':'x-large',\n",
        "         'xtick.labelsize':'x-large',\n",
        "         'ytick.labelsize':'x-large'}\n",
        "    plt.rcParams.update(params)\n",
        "    plt.plot(nn.Is[n,],label='I')\n",
        "    plt.plot(nn.I_exs[n,],label='I_ex')\n",
        "    plt.plot(-nn.I_ins[n,],label='I_in')\n",
        "    plt.legend()\n",
        "    plt.show()\n",
        "\n",
        "def plot_voltage(n, nn):\n",
        "    params = {'legend.fontsize': 'x-large',\n",
        "          'figure.figsize': (10, 6),\n",
        "         'axes.labelsize': 'x-large',\n",
        "         'axes.titlesize':'x-large',\n",
        "         'xtick.labelsize':'x-large',\n",
        "         'ytick.labelsize':'x-large'}\n",
        "    plt.rcParams.update(params)\n",
        "    plt.plot(nn.Vs[n,],label='V')\n",
        "    plt.legend()\n",
        "    plt.show()"
      ],
      "execution_count": 15,
      "outputs": []
    }
  ]
}